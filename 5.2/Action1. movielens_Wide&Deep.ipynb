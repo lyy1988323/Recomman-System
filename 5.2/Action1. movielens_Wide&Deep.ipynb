{
 "cells": [
  {
   "cell_type": "code",
   "execution_count": 2,
   "metadata": {
    "collapsed": true
   },
   "outputs": [
    {
     "name": "stdout",
     "output_type": "stream",
     "text": [
      "Defaulting to user installation because normal site-packages is not writeable\n",
      "Collecting deepctr\n",
      "  Downloading deepctr-0.8.1-py3-none-any.whl (110 kB)\n",
      "\u001b[K     |████████████████████████████████| 110 kB 185 kB/s eta 0:00:01\n",
      "\u001b[?25hRequirement already satisfied: h5py in /opt/conda/lib/python3.7/site-packages (from deepctr) (2.10.0)\n",
      "Requirement already satisfied: requests in /opt/conda/lib/python3.7/site-packages (from deepctr) (2.22.0)\n",
      "Requirement already satisfied: six in /opt/conda/lib/python3.7/site-packages (from h5py->deepctr) (1.14.0)\n",
      "Requirement already satisfied: numpy>=1.7 in /opt/conda/lib/python3.7/site-packages (from h5py->deepctr) (1.18.1)\n",
      "Requirement already satisfied: certifi>=2017.4.17 in /opt/conda/lib/python3.7/site-packages (from requests->deepctr) (2019.11.28)\n",
      "Requirement already satisfied: urllib3!=1.25.0,!=1.25.1,<1.26,>=1.21.1 in /opt/conda/lib/python3.7/site-packages (from requests->deepctr) (1.25.8)\n",
      "Requirement already satisfied: idna<2.9,>=2.5 in /opt/conda/lib/python3.7/site-packages (from requests->deepctr) (2.8)\n",
      "Requirement already satisfied: chardet<3.1.0,>=3.0.2 in /opt/conda/lib/python3.7/site-packages (from requests->deepctr) (3.0.4)\n",
      "Installing collected packages: deepctr\n",
      "Successfully installed deepctr-0.8.1\n",
      "Note: you may need to restart the kernel to use updated packages.\n"
     ]
    }
   ],
   "source": [
    "pip install deepctr"
   ]
  },
  {
   "cell_type": "code",
   "execution_count": 4,
   "metadata": {},
   "outputs": [],
   "source": [
    "import pandas as pd\n",
    "from sklearn.metrics import mean_squared_error\n",
    "from sklearn.model_selection import train_test_split\n",
    "from sklearn.preprocessing import LabelEncoder\n",
    "\n",
    "from deepctr.models import WDL\n",
    "from deepctr.feature_column import SparseFeat, get_feature_names"
   ]
  },
  {
   "cell_type": "code",
   "execution_count": 5,
   "metadata": {},
   "outputs": [
    {
     "name": "stdout",
     "output_type": "stream",
     "text": [
      "WARNING:tensorflow:From /opt/conda/lib/python3.7/site-packages/tensorflow/python/keras/initializers.py:143: calling RandomNormal.__init__ (from tensorflow.python.ops.init_ops) with dtype is deprecated and will be removed in a future version.\n",
      "Instructions for updating:\n",
      "Call initializer instance with the dtype argument instead of passing it to the constructor\n"
     ]
    }
   ],
   "source": [
    "data = pd.read_csv(\"movielens_sample.txt\")\n",
    "sparse_features = [\"movie_id\", \"user_id\", \"gender\", \"age\", \"occupation\", \"zip\"]\n",
    "target = ['rating']\n",
    "\n",
    "# 对特征标签进行编码\n",
    "for feature in sparse_features:\n",
    "    lbe = LabelEncoder()\n",
    "    data[feature] = lbe.fit_transform(data[feature])\n",
    "# 计算每个特征中的 不同特征值的个数\n",
    "fixlen_feature_columns = [SparseFeat(feature, data[feature].nunique()) for feature in sparse_features]\n",
    "linear_feature_columns = fixlen_feature_columns\n",
    "dnn_feature_columns = fixlen_feature_columns\n",
    "feature_names = get_feature_names(linear_feature_columns + dnn_feature_columns)"
   ]
  },
  {
   "cell_type": "code",
   "execution_count": 9,
   "metadata": {},
   "outputs": [],
   "source": [
    "# 将数据集切分成训练集和测试集\n",
    "train, test = train_test_split(data, test_size=0.2)\n",
    "train_model_input = {name:train[name].values for name in feature_names}\n",
    "test_model_input = {name:test[name].values for name in feature_names}"
   ]
  },
  {
   "cell_type": "code",
   "execution_count": 10,
   "metadata": {},
   "outputs": [
    {
     "name": "stdout",
     "output_type": "stream",
     "text": [
      "Epoch 1/50\n"
     ]
    },
    {
     "name": "stderr",
     "output_type": "stream",
     "text": [
      "/opt/conda/lib/python3.7/site-packages/tensorflow/python/framework/indexed_slices.py:434: UserWarning: Converting sparse IndexedSlices to a dense Tensor of unknown shape. This may consume a large amount of memory.\n",
      "  \"Converting sparse IndexedSlices to a dense Tensor of unknown shape. \"\n"
     ]
    },
    {
     "name": "stdout",
     "output_type": "stream",
     "text": [
      "1/1 [==============================] - 1s 678ms/step - loss: 13.6484 - mse: 13.6484 - val_loss: 15.9184 - val_mse: 15.9184\n",
      "Epoch 2/50\n",
      "1/1 [==============================] - 0s 60ms/step - loss: 13.5240 - mse: 13.5240 - val_loss: 15.8008 - val_mse: 15.8008\n",
      "Epoch 3/50\n",
      "1/1 [==============================] - 0s 61ms/step - loss: 13.3918 - mse: 13.3918 - val_loss: 15.6750 - val_mse: 15.6750\n",
      "Epoch 4/50\n",
      "1/1 [==============================] - 0s 59ms/step - loss: 13.2506 - mse: 13.2506 - val_loss: 15.5409 - val_mse: 15.5409\n",
      "Epoch 5/50\n",
      "1/1 [==============================] - 0s 66ms/step - loss: 13.1005 - mse: 13.1005 - val_loss: 15.3980 - val_mse: 15.3980\n",
      "Epoch 6/50\n",
      "1/1 [==============================] - 0s 58ms/step - loss: 12.9410 - mse: 12.9410 - val_loss: 15.2461 - val_mse: 15.2461\n",
      "Epoch 7/50\n",
      "1/1 [==============================] - 0s 59ms/step - loss: 12.7716 - mse: 12.7716 - val_loss: 15.0845 - val_mse: 15.0845\n",
      "Epoch 8/50\n",
      "1/1 [==============================] - 0s 61ms/step - loss: 12.5921 - mse: 12.5921 - val_loss: 14.9128 - val_mse: 14.9128\n",
      "Epoch 9/50\n",
      "1/1 [==============================] - 0s 66ms/step - loss: 12.4017 - mse: 12.4017 - val_loss: 14.7308 - val_mse: 14.7308\n",
      "Epoch 10/50\n",
      "1/1 [==============================] - 0s 55ms/step - loss: 12.1997 - mse: 12.1997 - val_loss: 14.5377 - val_mse: 14.5377\n",
      "Epoch 11/50\n",
      "1/1 [==============================] - 0s 68ms/step - loss: 11.9851 - mse: 11.9851 - val_loss: 14.3330 - val_mse: 14.3330\n",
      "Epoch 12/50\n",
      "1/1 [==============================] - 0s 59ms/step - loss: 11.7568 - mse: 11.7568 - val_loss: 14.1156 - val_mse: 14.1156\n",
      "Epoch 13/50\n",
      "1/1 [==============================] - 0s 85ms/step - loss: 11.5140 - mse: 11.5140 - val_loss: 13.8846 - val_mse: 13.8846\n",
      "Epoch 14/50\n",
      "1/1 [==============================] - 0s 94ms/step - loss: 11.2559 - mse: 11.2559 - val_loss: 13.6390 - val_mse: 13.6390\n",
      "Epoch 15/50\n",
      "1/1 [==============================] - 0s 108ms/step - loss: 10.9820 - mse: 10.9820 - val_loss: 13.3782 - val_mse: 13.3782\n",
      "Epoch 16/50\n",
      "1/1 [==============================] - 0s 102ms/step - loss: 10.6914 - mse: 10.6914 - val_loss: 13.1019 - val_mse: 13.1018\n",
      "Epoch 17/50\n",
      "1/1 [==============================] - 0s 97ms/step - loss: 10.3837 - mse: 10.3837 - val_loss: 12.8093 - val_mse: 12.8093\n",
      "Epoch 18/50\n",
      "1/1 [==============================] - 0s 145ms/step - loss: 10.0582 - mse: 10.0582 - val_loss: 12.5000 - val_mse: 12.5000\n",
      "Epoch 19/50\n",
      "1/1 [==============================] - 0s 124ms/step - loss: 9.7145 - mse: 9.7145 - val_loss: 12.1736 - val_mse: 12.1736\n",
      "Epoch 20/50\n",
      "1/1 [==============================] - 0s 124ms/step - loss: 9.3522 - mse: 9.3522 - val_loss: 11.8296 - val_mse: 11.8296\n",
      "Epoch 21/50\n",
      "1/1 [==============================] - 0s 107ms/step - loss: 8.9711 - mse: 8.9711 - val_loss: 11.4677 - val_mse: 11.4676\n",
      "Epoch 22/50\n",
      "1/1 [==============================] - 0s 88ms/step - loss: 8.5713 - mse: 8.5712 - val_loss: 11.0875 - val_mse: 11.0875\n",
      "Epoch 23/50\n",
      "1/1 [==============================] - 0s 117ms/step - loss: 8.1528 - mse: 8.1528 - val_loss: 10.6891 - val_mse: 10.6890\n",
      "Epoch 24/50\n",
      "1/1 [==============================] - 0s 108ms/step - loss: 7.7163 - mse: 7.7163 - val_loss: 10.2725 - val_mse: 10.2725\n",
      "Epoch 25/50\n",
      "1/1 [==============================] - 0s 120ms/step - loss: 7.2629 - mse: 7.2628 - val_loss: 9.8382 - val_mse: 9.8382\n",
      "Epoch 26/50\n",
      "1/1 [==============================] - 0s 144ms/step - loss: 6.7939 - mse: 6.7938 - val_loss: 9.3868 - val_mse: 9.3868\n",
      "Epoch 27/50\n",
      "1/1 [==============================] - 0s 107ms/step - loss: 6.3112 - mse: 6.3112 - val_loss: 8.9191 - val_mse: 8.9191\n",
      "Epoch 28/50\n",
      "1/1 [==============================] - 0s 111ms/step - loss: 5.8176 - mse: 5.8176 - val_loss: 8.4363 - val_mse: 8.4363\n",
      "Epoch 29/50\n",
      "1/1 [==============================] - 0s 107ms/step - loss: 5.3164 - mse: 5.3164 - val_loss: 7.9402 - val_mse: 7.9402\n",
      "Epoch 30/50\n",
      "1/1 [==============================] - 0s 90ms/step - loss: 4.8120 - mse: 4.8120 - val_loss: 7.4334 - val_mse: 7.4334\n",
      "Epoch 31/50\n",
      "1/1 [==============================] - 0s 122ms/step - loss: 4.3093 - mse: 4.3093 - val_loss: 6.9189 - val_mse: 6.9189\n",
      "Epoch 32/50\n",
      "1/1 [==============================] - 0s 100ms/step - loss: 3.8142 - mse: 3.8142 - val_loss: 6.4001 - val_mse: 6.4001\n",
      "Epoch 33/50\n",
      "1/1 [==============================] - 0s 128ms/step - loss: 3.3337 - mse: 3.3337 - val_loss: 5.8815 - val_mse: 5.8815\n",
      "Epoch 34/50\n",
      "1/1 [==============================] - 0s 89ms/step - loss: 2.8755 - mse: 2.8755 - val_loss: 5.3679 - val_mse: 5.3679\n",
      "Epoch 35/50\n",
      "1/1 [==============================] - 0s 101ms/step - loss: 2.4481 - mse: 2.4481 - val_loss: 4.8651 - val_mse: 4.8650\n",
      "Epoch 36/50\n",
      "1/1 [==============================] - 0s 111ms/step - loss: 2.0605 - mse: 2.0605 - val_loss: 4.3780 - val_mse: 4.3780\n",
      "Epoch 37/50\n",
      "1/1 [==============================] - 0s 110ms/step - loss: 1.7213 - mse: 1.7213 - val_loss: 3.9154 - val_mse: 3.9153\n",
      "Epoch 38/50\n",
      "1/1 [==============================] - 0s 111ms/step - loss: 1.4393 - mse: 1.4392 - val_loss: 3.4845 - val_mse: 3.4845\n",
      "Epoch 39/50\n",
      "1/1 [==============================] - 0s 110ms/step - loss: 1.2211 - mse: 1.2211 - val_loss: 3.0927 - val_mse: 3.0927\n",
      "Epoch 40/50\n",
      "1/1 [==============================] - 0s 143ms/step - loss: 1.0710 - mse: 1.0710 - val_loss: 2.7466 - val_mse: 2.7465\n",
      "Epoch 41/50\n",
      "1/1 [==============================] - 0s 97ms/step - loss: 0.9888 - mse: 0.9888 - val_loss: 2.4513 - val_mse: 2.4512\n",
      "Epoch 42/50\n",
      "1/1 [==============================] - 0s 349ms/step - loss: 0.9685 - mse: 0.9685 - val_loss: 2.2098 - val_mse: 2.2098\n",
      "Epoch 43/50\n",
      "1/1 [==============================] - 0s 92ms/step - loss: 0.9969 - mse: 0.9969 - val_loss: 2.0223 - val_mse: 2.0223\n",
      "Epoch 44/50\n",
      "1/1 [==============================] - 0s 100ms/step - loss: 1.0543 - mse: 1.0543 - val_loss: 1.8855 - val_mse: 1.8854\n",
      "Epoch 45/50\n",
      "1/1 [==============================] - 0s 102ms/step - loss: 1.1177 - mse: 1.1176 - val_loss: 1.7937 - val_mse: 1.7937\n",
      "Epoch 46/50\n",
      "1/1 [==============================] - 0s 112ms/step - loss: 1.1655 - mse: 1.1654 - val_loss: 1.7407 - val_mse: 1.7407\n",
      "Epoch 47/50\n",
      "1/1 [==============================] - 0s 87ms/step - loss: 1.1823 - mse: 1.1822 - val_loss: 1.7206 - val_mse: 1.7205\n",
      "Epoch 48/50\n",
      "1/1 [==============================] - 0s 101ms/step - loss: 1.1611 - mse: 1.1611 - val_loss: 1.7288 - val_mse: 1.7287\n",
      "Epoch 49/50\n",
      "1/1 [==============================] - 0s 138ms/step - loss: 1.1037 - mse: 1.1036 - val_loss: 1.7620 - val_mse: 1.7620\n",
      "Epoch 50/50\n",
      "1/1 [==============================] - 0s 109ms/step - loss: 1.0176 - mse: 1.0175 - val_loss: 1.8179 - val_mse: 1.8179\n"
     ]
    }
   ],
   "source": [
    "# 使用WDL进行训练\n",
    "model = WDL(linear_feature_columns, dnn_feature_columns, task='regression')\n",
    "model.compile(\"adam\", \"mse\", metrics=['mse'], )\n",
    "history = model.fit(train_model_input, train[target].values, batch_size=256, epochs=50, verbose=True, validation_split=0.2, )\n"
   ]
  },
  {
   "cell_type": "code",
   "execution_count": 11,
   "metadata": {},
   "outputs": [
    {
     "name": "stdout",
     "output_type": "stream",
     "text": [
      "test RMSE 1.2566224572241258\n"
     ]
    }
   ],
   "source": [
    "# 使用WDL进行预测\n",
    "pred_ans = model.predict(test_model_input, batch_size=256)\n",
    "# 输出RMSE或MSE\n",
    "mse = round(mean_squared_error(test[target].values, pred_ans), 4)\n",
    "rmse = mse ** 0.5\n",
    "print(\"test RMSE\", rmse)"
   ]
  },
  {
   "cell_type": "code",
   "execution_count": null,
   "metadata": {},
   "outputs": [],
   "source": []
  }
 ],
 "metadata": {
  "kernelspec": {
   "display_name": "Python 3",
   "language": "python",
   "name": "python3"
  },
  "language_info": {
   "codemirror_mode": {
    "name": "ipython",
    "version": 3
   },
   "file_extension": ".py",
   "mimetype": "text/x-python",
   "name": "python",
   "nbconvert_exporter": "python",
   "pygments_lexer": "ipython3",
   "version": "3.7.6"
  }
 },
 "nbformat": 4,
 "nbformat_minor": 4
}
