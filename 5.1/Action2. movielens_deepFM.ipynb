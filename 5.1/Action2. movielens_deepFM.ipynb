{
 "cells": [
  {
   "cell_type": "code",
   "execution_count": 2,
   "metadata": {
    "collapsed": true
   },
   "outputs": [
    {
     "name": "stdout",
     "output_type": "stream",
     "text": [
      "Defaulting to user installation because normal site-packages is not writeable\n",
      "Collecting deepctr\n",
      "  Downloading deepctr-0.8.1-py3-none-any.whl (110 kB)\n",
      "\u001b[K     |████████████████████████████████| 110 kB 185 kB/s eta 0:00:01\n",
      "\u001b[?25hRequirement already satisfied: h5py in /opt/conda/lib/python3.7/site-packages (from deepctr) (2.10.0)\n",
      "Requirement already satisfied: requests in /opt/conda/lib/python3.7/site-packages (from deepctr) (2.22.0)\n",
      "Requirement already satisfied: six in /opt/conda/lib/python3.7/site-packages (from h5py->deepctr) (1.14.0)\n",
      "Requirement already satisfied: numpy>=1.7 in /opt/conda/lib/python3.7/site-packages (from h5py->deepctr) (1.18.1)\n",
      "Requirement already satisfied: certifi>=2017.4.17 in /opt/conda/lib/python3.7/site-packages (from requests->deepctr) (2019.11.28)\n",
      "Requirement already satisfied: urllib3!=1.25.0,!=1.25.1,<1.26,>=1.21.1 in /opt/conda/lib/python3.7/site-packages (from requests->deepctr) (1.25.8)\n",
      "Requirement already satisfied: idna<2.9,>=2.5 in /opt/conda/lib/python3.7/site-packages (from requests->deepctr) (2.8)\n",
      "Requirement already satisfied: chardet<3.1.0,>=3.0.2 in /opt/conda/lib/python3.7/site-packages (from requests->deepctr) (3.0.4)\n",
      "Installing collected packages: deepctr\n",
      "Successfully installed deepctr-0.8.1\n",
      "Note: you may need to restart the kernel to use updated packages.\n"
     ]
    }
   ],
   "source": [
    "pip install deepctr"
   ]
  },
  {
   "cell_type": "code",
   "execution_count": 1,
   "metadata": {},
   "outputs": [],
   "source": [
    "import pandas as pd\n",
    "from sklearn.metrics import mean_squared_error\n",
    "from sklearn.model_selection import train_test_split\n",
    "from sklearn.preprocessing import LabelEncoder\n",
    "\n",
    "from deepctr.models import DeepFM\n",
    "from deepctr.feature_column import SparseFeat, get_feature_names"
   ]
  },
  {
   "cell_type": "code",
   "execution_count": 2,
   "metadata": {},
   "outputs": [
    {
     "name": "stdout",
     "output_type": "stream",
     "text": [
      "WARNING:tensorflow:From /opt/conda/lib/python3.7/site-packages/tensorflow/python/keras/initializers.py:143: calling RandomNormal.__init__ (from tensorflow.python.ops.init_ops) with dtype is deprecated and will be removed in a future version.\n",
      "Instructions for updating:\n",
      "Call initializer instance with the dtype argument instead of passing it to the constructor\n"
     ]
    }
   ],
   "source": [
    "data = pd.read_csv(\"movielens_sample.txt\")\n",
    "sparse_features = [\"movie_id\", \"user_id\", \"gender\", \"age\", \"occupation\", \"zip\"]\n",
    "target = ['rating']\n",
    "\n",
    "# 对特征标签进行编码\n",
    "for feature in sparse_features:\n",
    "    lbe = LabelEncoder()\n",
    "    data[feature] = lbe.fit_transform(data[feature])\n",
    "# 计算每个特征中的 不同特征值的个数\n",
    "fixlen_feature_columns = [SparseFeat(feature, data[feature].nunique()) for feature in sparse_features]\n",
    "linear_feature_columns = fixlen_feature_columns\n",
    "dnn_feature_columns = fixlen_feature_columns\n",
    "feature_names = get_feature_names(linear_feature_columns + dnn_feature_columns)"
   ]
  },
  {
   "cell_type": "code",
   "execution_count": 3,
   "metadata": {},
   "outputs": [],
   "source": [
    "# 将数据集切分成训练集和测试集\n",
    "train, test = train_test_split(data, test_size=0.2)\n",
    "train_model_input = {name:train[name].values for name in feature_names}\n",
    "test_model_input = {name:test[name].values for name in feature_names}"
   ]
  },
  {
   "cell_type": "code",
   "execution_count": 4,
   "metadata": {
    "scrolled": false
   },
   "outputs": [
    {
     "name": "stdout",
     "output_type": "stream",
     "text": [
      "Epoch 1/50\n"
     ]
    },
    {
     "name": "stderr",
     "output_type": "stream",
     "text": [
      "/opt/conda/lib/python3.7/site-packages/tensorflow/python/framework/indexed_slices.py:434: UserWarning: Converting sparse IndexedSlices to a dense Tensor of unknown shape. This may consume a large amount of memory.\n",
      "  \"Converting sparse IndexedSlices to a dense Tensor of unknown shape. \"\n"
     ]
    },
    {
     "name": "stdout",
     "output_type": "stream",
     "text": [
      "1/1 [==============================] - 1s 873ms/step - loss: 14.8436 - mse: 14.8436 - val_loss: 13.1081 - val_mse: 13.1081\n",
      "Epoch 2/50\n",
      "1/1 [==============================] - 0s 154ms/step - loss: 14.7025 - mse: 14.7025 - val_loss: 12.9922 - val_mse: 12.9922\n",
      "Epoch 3/50\n",
      "1/1 [==============================] - 0s 86ms/step - loss: 14.5524 - mse: 14.5524 - val_loss: 12.8684 - val_mse: 12.8684\n",
      "Epoch 4/50\n",
      "1/1 [==============================] - 0s 157ms/step - loss: 14.3920 - mse: 14.3920 - val_loss: 12.7370 - val_mse: 12.7370\n",
      "Epoch 5/50\n",
      "1/1 [==============================] - 0s 88ms/step - loss: 14.2219 - mse: 14.2219 - val_loss: 12.5973 - val_mse: 12.5973\n",
      "Epoch 6/50\n",
      "1/1 [==============================] - 0s 157ms/step - loss: 14.0414 - mse: 14.0414 - val_loss: 12.4490 - val_mse: 12.4490\n",
      "Epoch 7/50\n",
      "1/1 [==============================] - 0s 154ms/step - loss: 13.8495 - mse: 13.8495 - val_loss: 12.2920 - val_mse: 12.2920\n",
      "Epoch 8/50\n",
      "1/1 [==============================] - 0s 162ms/step - loss: 13.6455 - mse: 13.6455 - val_loss: 12.1254 - val_mse: 12.1254\n",
      "Epoch 9/50\n",
      "1/1 [==============================] - 0s 93ms/step - loss: 13.4288 - mse: 13.4288 - val_loss: 11.9482 - val_mse: 11.9482\n",
      "Epoch 10/50\n",
      "1/1 [==============================] - 0s 180ms/step - loss: 13.1987 - mse: 13.1987 - val_loss: 11.7600 - val_mse: 11.7600\n",
      "Epoch 11/50\n",
      "1/1 [==============================] - 0s 88ms/step - loss: 12.9540 - mse: 12.9540 - val_loss: 11.5603 - val_mse: 11.5603\n",
      "Epoch 12/50\n",
      "1/1 [==============================] - 0s 110ms/step - loss: 12.6938 - mse: 12.6938 - val_loss: 11.3486 - val_mse: 11.3486\n",
      "Epoch 13/50\n",
      "1/1 [==============================] - 0s 87ms/step - loss: 12.4174 - mse: 12.4174 - val_loss: 11.1241 - val_mse: 11.1241\n",
      "Epoch 14/50\n",
      "1/1 [==============================] - 0s 96ms/step - loss: 12.1239 - mse: 12.1239 - val_loss: 10.8863 - val_mse: 10.8863\n",
      "Epoch 15/50\n",
      "1/1 [==============================] - 0s 97ms/step - loss: 11.8127 - mse: 11.8127 - val_loss: 10.6346 - val_mse: 10.6346\n",
      "Epoch 16/50\n",
      "1/1 [==============================] - 0s 100ms/step - loss: 11.4829 - mse: 11.4829 - val_loss: 10.3685 - val_mse: 10.3685\n",
      "Epoch 17/50\n",
      "1/1 [==============================] - 0s 110ms/step - loss: 11.1334 - mse: 11.1334 - val_loss: 10.0877 - val_mse: 10.0877\n",
      "Epoch 18/50\n",
      "1/1 [==============================] - 0s 85ms/step - loss: 10.7637 - mse: 10.7637 - val_loss: 9.7919 - val_mse: 9.7919\n",
      "Epoch 19/50\n",
      "1/1 [==============================] - 0s 120ms/step - loss: 10.3730 - mse: 10.3730 - val_loss: 9.4808 - val_mse: 9.4808\n",
      "Epoch 20/50\n",
      "1/1 [==============================] - 0s 84ms/step - loss: 9.9611 - mse: 9.9611 - val_loss: 9.1543 - val_mse: 9.1543\n",
      "Epoch 21/50\n",
      "1/1 [==============================] - 0s 95ms/step - loss: 9.5278 - mse: 9.5278 - val_loss: 8.8124 - val_mse: 8.8124\n",
      "Epoch 22/50\n",
      "1/1 [==============================] - 0s 129ms/step - loss: 9.0735 - mse: 9.0735 - val_loss: 8.4548 - val_mse: 8.4548\n",
      "Epoch 23/50\n",
      "1/1 [==============================] - 0s 131ms/step - loss: 8.5988 - mse: 8.5988 - val_loss: 8.0816 - val_mse: 8.0816\n",
      "Epoch 24/50\n",
      "1/1 [==============================] - 0s 123ms/step - loss: 8.1047 - mse: 8.1047 - val_loss: 7.6938 - val_mse: 7.6938\n",
      "Epoch 25/50\n",
      "1/1 [==============================] - 0s 157ms/step - loss: 7.5928 - mse: 7.5928 - val_loss: 7.2921 - val_mse: 7.2921\n",
      "Epoch 26/50\n",
      "1/1 [==============================] - 0s 84ms/step - loss: 7.0652 - mse: 7.0652 - val_loss: 6.8779 - val_mse: 6.8779\n",
      "Epoch 27/50\n",
      "1/1 [==============================] - 0s 99ms/step - loss: 6.5246 - mse: 6.5246 - val_loss: 6.4527 - val_mse: 6.4527\n",
      "Epoch 28/50\n",
      "1/1 [==============================] - 0s 99ms/step - loss: 5.9746 - mse: 5.9746 - val_loss: 6.0187 - val_mse: 6.0186\n",
      "Epoch 29/50\n",
      "1/1 [==============================] - 0s 128ms/step - loss: 5.4193 - mse: 5.4193 - val_loss: 5.5785 - val_mse: 5.5785\n",
      "Epoch 30/50\n",
      "1/1 [==============================] - 0s 123ms/step - loss: 4.8641 - mse: 4.8640 - val_loss: 5.1363 - val_mse: 5.1363\n",
      "Epoch 31/50\n",
      "1/1 [==============================] - 0s 98ms/step - loss: 4.3152 - mse: 4.3151 - val_loss: 4.6942 - val_mse: 4.6942\n",
      "Epoch 32/50\n",
      "1/1 [==============================] - 0s 112ms/step - loss: 3.7798 - mse: 3.7798 - val_loss: 4.2570 - val_mse: 4.2570\n",
      "Epoch 33/50\n",
      "1/1 [==============================] - 0s 85ms/step - loss: 3.2661 - mse: 3.2661 - val_loss: 3.8305 - val_mse: 3.8305\n",
      "Epoch 34/50\n",
      "1/1 [==============================] - 0s 105ms/step - loss: 2.7835 - mse: 2.7835 - val_loss: 3.4202 - val_mse: 3.4202\n",
      "Epoch 35/50\n",
      "1/1 [==============================] - 0s 85ms/step - loss: 2.3418 - mse: 2.3418 - val_loss: 3.0323 - val_mse: 3.0323\n",
      "Epoch 36/50\n",
      "1/1 [==============================] - 0s 91ms/step - loss: 1.9511 - mse: 1.9511 - val_loss: 2.6731 - val_mse: 2.6731\n",
      "Epoch 37/50\n",
      "1/1 [==============================] - 0s 82ms/step - loss: 1.6211 - mse: 1.6211 - val_loss: 2.3486 - val_mse: 2.3485\n",
      "Epoch 38/50\n",
      "1/1 [==============================] - 0s 95ms/step - loss: 1.3601 - mse: 1.3601 - val_loss: 2.0643 - val_mse: 2.0643\n",
      "Epoch 39/50\n",
      "1/1 [==============================] - 0s 88ms/step - loss: 1.1741 - mse: 1.1740 - val_loss: 1.8247 - val_mse: 1.8247\n",
      "Epoch 40/50\n",
      "1/1 [==============================] - 0s 153ms/step - loss: 1.0642 - mse: 1.0642 - val_loss: 1.6321 - val_mse: 1.6320\n",
      "Epoch 41/50\n",
      "1/1 [==============================] - 0s 123ms/step - loss: 1.0257 - mse: 1.0257 - val_loss: 1.4861 - val_mse: 1.4860\n",
      "Epoch 42/50\n",
      "1/1 [==============================] - 0s 134ms/step - loss: 1.0460 - mse: 1.0460 - val_loss: 1.3829 - val_mse: 1.3828\n",
      "Epoch 43/50\n",
      "1/1 [==============================] - 0s 185ms/step - loss: 1.1050 - mse: 1.1050 - val_loss: 1.3155 - val_mse: 1.3154\n",
      "Epoch 44/50\n",
      "1/1 [==============================] - 0s 125ms/step - loss: 1.1778 - mse: 1.1777 - val_loss: 1.2752 - val_mse: 1.2751\n",
      "Epoch 45/50\n",
      "1/1 [==============================] - 0s 161ms/step - loss: 1.2395 - mse: 1.2394 - val_loss: 1.2537 - val_mse: 1.2536\n",
      "Epoch 46/50\n",
      "1/1 [==============================] - 0s 166ms/step - loss: 1.2707 - mse: 1.2706 - val_loss: 1.2447 - val_mse: 1.2447\n",
      "Epoch 47/50\n",
      "1/1 [==============================] - 0s 184ms/step - loss: 1.2610 - mse: 1.2609 - val_loss: 1.2449 - val_mse: 1.2448\n",
      "Epoch 48/50\n",
      "1/1 [==============================] - 0s 148ms/step - loss: 1.2094 - mse: 1.2093 - val_loss: 1.2533 - val_mse: 1.2533\n",
      "Epoch 49/50\n",
      "1/1 [==============================] - 0s 124ms/step - loss: 1.1226 - mse: 1.1225 - val_loss: 1.2710 - val_mse: 1.2710\n",
      "Epoch 50/50\n",
      "1/1 [==============================] - 0s 86ms/step - loss: 1.0120 - mse: 1.0120 - val_loss: 1.2994 - val_mse: 1.2994\n"
     ]
    }
   ],
   "source": [
    "# 使用DeepFM进行训练\n",
    "model = DeepFM(linear_feature_columns, dnn_feature_columns, task='regression')\n",
    "model.compile(\"adam\", \"mse\", metrics=['mse'], )\n",
    "history = model.fit(train_model_input, train[target].values, batch_size=256, epochs=50, verbose=True, validation_split=0.2, )\n"
   ]
  },
  {
   "cell_type": "code",
   "execution_count": 5,
   "metadata": {},
   "outputs": [
    {
     "name": "stdout",
     "output_type": "stream",
     "text": [
      "test RMSE 0.9496841580230767\n"
     ]
    }
   ],
   "source": [
    "# 使用DeepFM进行预测\n",
    "pred_ans = model.predict(test_model_input, batch_size=256)\n",
    "# 输出RMSE或MSE\n",
    "mse = round(mean_squared_error(test[target].values, pred_ans), 4)\n",
    "rmse = mse ** 0.5\n",
    "print(\"test RMSE\", rmse)"
   ]
  },
  {
   "cell_type": "code",
   "execution_count": null,
   "metadata": {},
   "outputs": [],
   "source": []
  }
 ],
 "metadata": {
  "kernelspec": {
   "display_name": "Python 3",
   "language": "python",
   "name": "python3"
  },
  "language_info": {
   "codemirror_mode": {
    "name": "ipython",
    "version": 3
   },
   "file_extension": ".py",
   "mimetype": "text/x-python",
   "name": "python",
   "nbconvert_exporter": "python",
   "pygments_lexer": "ipython3",
   "version": "3.7.6"
  }
 },
 "nbformat": 4,
 "nbformat_minor": 4
}
