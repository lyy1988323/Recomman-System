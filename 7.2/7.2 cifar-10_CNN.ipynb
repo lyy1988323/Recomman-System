{
 "cells": [
  {
   "cell_type": "code",
   "execution_count": 1,
   "metadata": {},
   "outputs": [],
   "source": [
    "import torch\n",
    "from torch import nn, optim\n",
    "import torchvision\n",
    "import torch.nn.functional as F\n",
    "import torchvision.datasets as datasets\n",
    "import torchvision.transforms as transforms\n",
    "from torch.utils.data import DataLoader\n",
    "import matplotlib.pyplot as plt\n",
    "%matplotlib inline"
   ]
  },
  {
   "cell_type": "code",
   "execution_count": 2,
   "metadata": {},
   "outputs": [
    {
     "data": {
      "text/plain": [
       "'1.5.1'"
      ]
     },
     "execution_count": 2,
     "metadata": {},
     "output_type": "execute_result"
    }
   ],
   "source": [
    "torch.__version__"
   ]
  },
  {
   "cell_type": "code",
   "execution_count": 3,
   "metadata": {},
   "outputs": [],
   "source": [
    "class AlexNet(nn.Module):\n",
    "    def __init__(self):\n",
    "        super(AlexNet, self).__init__()\n",
    "        self.conv = nn.Sequential(\n",
    "            # 32*28*28*3\n",
    "            nn.Conv2d(3, 32, 3, 1), # in_channels, out_channels, kernel_size, stride, padding\n",
    "            nn.MaxPool2d(2, 2), # kernel_size, stride\n",
    "            nn.ReLU(),            \n",
    "            # 减小卷积窗口，使用填充为2来使得输入与输出的高和宽一致，且增加输出通道数\n",
    "            # 64*14*14\n",
    "            nn.Conv2d(32, 64, 3, 1, 1),\n",
    "            nn.MaxPool2d(2, 2),\n",
    "            nn.ReLU(),\n",
    "        # 连续3个卷积层，且使用更小的卷积窗口。除了最后的卷积层外，进一步 增加了输出通道数。\n",
    "        # 前两个卷积层后不使用池化层来减小输入的⾼和宽 \n",
    "            # 128*7*7\n",
    "            nn.Conv2d(64, 128, 3, 1, 1), \n",
    "            # 256*7*7\n",
    "            nn.Conv2d(128, 256, 3, 1, 1), \n",
    "            # 256*7*7\n",
    "            nn.Conv2d(256, 256, 3, 1, 1), \n",
    "            # 256*3*3\n",
    "            nn.MaxPool2d(2, 2),\n",
    "            nn.ReLU()\n",
    "        )\n",
    "        # 这里全连接层的输出个数 ALexNet中的数倍。使用dropout来缓解过拟合。\n",
    "        self.fc = nn.Sequential(\n",
    "        # 输出层，10分类\n",
    "            nn.Linear(256*3*3, 1024),\n",
    "            nn.Linear(1024, 512),\n",
    "            nn.Linear(512, 10),\n",
    "        )\n",
    "    def forward(self, img):\n",
    "        feature = self.conv(img)\n",
    "        output = self.fc(feature.view(img.shape[0], -1))\n",
    "        return output"
   ]
  },
  {
   "cell_type": "code",
   "execution_count": 4,
   "metadata": {},
   "outputs": [],
   "source": [
    "# cifar10数据集下载\n",
    "train_data = datasets.CIFAR10(root='./cifar10/',\n",
    "                         train=True,                         # 这里是训练集\n",
    "                         # 数据变换(0, 255) -> (0, 1)\n",
    "                         transform=transforms.ToTensor(),    # 将PIL Image或者numpy.ndarray转化为torch.FloatTensor，shape为(C,H,W)，并且归一化到[0.0, 1.0]\n",
    "#                          download=True\n",
    "                           )\n",
    "\n",
    "test_data = datasets.CIFAR10(root='./cifar10/',\n",
    "                        train=False,                         # 测试集\n",
    "                        transform=transforms.ToTensor(),\n",
    "#                         download=True\n",
    "                          )\n",
    "\n",
    "\n"
   ]
  },
  {
   "cell_type": "code",
   "execution_count": 5,
   "metadata": {},
   "outputs": [
    {
     "name": "stdout",
     "output_type": "stream",
     "text": [
      "训练集大小： (50000, 32, 32, 3)\n",
      "训练集标签个数： 50000\n"
     ]
    }
   ],
   "source": [
    "print('训练集大小：', train_data.data.shape)   # 查看训练集数据大小，60000张28*28的图片 (60000, 28, 28)\n",
    "print('训练集标签个数：', len(train_data.targets))"
   ]
  },
  {
   "cell_type": "code",
   "execution_count": 6,
   "metadata": {},
   "outputs": [
    {
     "data": {
      "image/png": "[encoded data removed]",
      "text/plain": [
       "<Figure size 432x288 with 1 Axes>"
      ]
     },
     "metadata": {
      "needs_background": "light"
     },
     "output_type": "display_data"
    }
   ],
   "source": [
    "# plot其中一张手写数字图片\n",
    "# plt.imshow(train_data[0][0].numpy(), cmap='gray') # plot 训练集第一张图片\n",
    "plt.imshow(train_data[0][0].numpy().transpose(1,2,0)) # plot 训练集第一张图片\n",
    "plt.title('%i' % train_data[0][1])              # 图片名称，显示真实标签，%i %d十进制整数，有区别，深入请查阅资料\n",
    "plt.show() "
   ]
  },
  {
   "cell_type": "code",
   "execution_count": 10,
   "metadata": {},
   "outputs": [],
   "source": [
    "# 使用DataLoader进行分批\n",
    "BATCH_SIZE = 64\n",
    "train_loader = DataLoader(dataset=train_data, batch_size=BATCH_SIZE, shuffle=True)\n",
    "test_loader = DataLoader(dataset=test_data, batch_size=BATCH_SIZE, shuffle=True)"
   ]
  },
  {
   "cell_type": "code",
   "execution_count": 8,
   "metadata": {},
   "outputs": [
    {
     "data": {
      "text/plain": [
       "AlexNet(\n",
       "  (conv): Sequential(\n",
       "    (0): Conv2d(3, 32, kernel_size=(3, 3), stride=(1, 1))\n",
       "    (1): MaxPool2d(kernel_size=2, stride=2, padding=0, dilation=1, ceil_mode=False)\n",
       "    (2): ReLU()\n",
       "    (3): Conv2d(32, 64, kernel_size=(3, 3), stride=(1, 1), padding=(1, 1))\n",
       "    (4): MaxPool2d(kernel_size=2, stride=2, padding=0, dilation=1, ceil_mode=False)\n",
       "    (5): ReLU()\n",
       "    (6): Conv2d(64, 128, kernel_size=(3, 3), stride=(1, 1), padding=(1, 1))\n",
       "    (7): Conv2d(128, 256, kernel_size=(3, 3), stride=(1, 1), padding=(1, 1))\n",
       "    (8): Conv2d(256, 256, kernel_size=(3, 3), stride=(1, 1), padding=(1, 1))\n",
       "    (9): MaxPool2d(kernel_size=2, stride=2, padding=0, dilation=1, ceil_mode=False)\n",
       "    (10): ReLU()\n",
       "  )\n",
       "  (fc): Sequential(\n",
       "    (0): Linear(in_features=2304, out_features=1024, bias=True)\n",
       "    (1): Linear(in_features=1024, out_features=512, bias=True)\n",
       "    (2): Linear(in_features=512, out_features=10, bias=True)\n",
       "  )\n",
       ")"
      ]
     },
     "execution_count": 8,
     "metadata": {},
     "output_type": "execute_result"
    }
   ],
   "source": [
    "# AlexNet Model\n",
    "model = AlexNet()\n",
    "#损失函数:这里用交叉熵\n",
    "criterion = nn.CrossEntropyLoss()\n",
    "#优化器 这里用SGD\n",
    "optimizer = optim.Adam(model.parameters(), lr=1e-5)\n",
    "\n",
    "#device : GPU or CPU\n",
    "device = torch.device(\"cuda:0\" if torch.cuda.is_available() else \"cpu\")\n",
    "model.to(device)"
   ]
  },
  {
   "cell_type": "code",
   "execution_count": 73,
   "metadata": {
    "scrolled": true
   },
   "outputs": [
    {
     "name": "stdout",
     "output_type": "stream",
     "text": [
      "epoch1 loss:2.0492\n",
      "epoch2 loss:1.6523\n",
      "epoch3 loss:1.7241\n",
      "epoch4 loss:1.3997\n",
      "epoch5 loss:1.9471\n",
      "epoch6 loss:1.7188\n",
      "epoch7 loss:1.3282\n",
      "epoch8 loss:1.1216\n",
      "epoch9 loss:1.5981\n",
      "epoch10 loss:1.2750\n",
      "epoch11 loss:1.4497\n",
      "epoch12 loss:0.9929\n",
      "epoch13 loss:1.4073\n",
      "epoch14 loss:1.2715\n",
      "epoch15 loss:1.6224\n",
      "epoch16 loss:1.7254\n",
      "epoch17 loss:0.9124\n",
      "epoch18 loss:0.8790\n",
      "epoch19 loss:0.7760\n",
      "epoch20 loss:0.7861\n",
      "epoch21 loss:1.2125\n",
      "epoch22 loss:0.9688\n",
      "epoch23 loss:1.0111\n",
      "epoch24 loss:1.0038\n",
      "epoch25 loss:1.4109\n",
      "epoch26 loss:0.9728\n",
      "epoch27 loss:0.9961\n",
      "epoch28 loss:0.9350\n",
      "epoch29 loss:1.2552\n",
      "epoch30 loss:0.8937\n",
      "epoch31 loss:1.5394\n",
      "epoch32 loss:0.9269\n",
      "epoch33 loss:1.4092\n",
      "epoch34 loss:1.2092\n",
      "epoch35 loss:0.8571\n",
      "epoch36 loss:0.8551\n",
      "epoch37 loss:0.8482\n",
      "epoch38 loss:1.3419\n",
      "epoch39 loss:0.7439\n",
      "epoch40 loss:0.8554\n",
      "epoch41 loss:0.6850\n",
      "epoch42 loss:0.9617\n",
      "epoch43 loss:0.8504\n",
      "epoch44 loss:1.0064\n",
      "epoch45 loss:1.2041\n",
      "epoch46 loss:0.9591\n",
      "epoch47 loss:0.8267\n",
      "epoch48 loss:0.8248\n",
      "epoch49 loss:0.8898\n",
      "epoch51 loss:1.2123\n",
      "epoch52 loss:0.7470\n",
      "epoch53 loss:0.5242\n",
      "epoch54 loss:1.2764\n",
      "epoch55 loss:0.4593\n",
      "epoch56 loss:0.7566\n",
      "epoch57 loss:0.4769\n",
      "epoch58 loss:1.3010\n",
      "epoch59 loss:0.8917\n",
      "epoch60 loss:0.8070\n",
      "epoch61 loss:0.9031\n",
      "epoch62 loss:0.6125\n",
      "epoch63 loss:0.5724\n",
      "epoch64 loss:0.9051\n",
      "epoch65 loss:0.6770\n",
      "epoch66 loss:0.7832\n",
      "epoch67 loss:0.6459\n",
      "epoch68 loss:0.5540\n",
      "epoch69 loss:0.8137\n",
      "epoch70 loss:0.6517\n",
      "epoch71 loss:0.8019\n",
      "epoch72 loss:0.7865\n",
      "epoch73 loss:0.5563\n",
      "epoch74 loss:0.6752\n",
      "epoch75 loss:0.3152\n",
      "epoch76 loss:0.5276\n",
      "epoch77 loss:0.5207\n",
      "epoch78 loss:0.6711\n",
      "epoch79 loss:0.6000\n",
      "epoch80 loss:0.7069\n",
      "epoch81 loss:0.8185\n",
      "epoch84 loss:0.5482\n",
      "epoch85 loss:0.7720\n",
      "epoch86 loss:0.8235\n",
      "epoch87 loss:0.4059\n",
      "epoch88 loss:0.9982\n",
      "epoch89 loss:0.6224\n",
      "epoch90 loss:0.8602\n",
      "epoch91 loss:0.3506\n",
      "epoch92 loss:1.1811\n",
      "epoch93 loss:0.5680\n",
      "epoch94 loss:1.0656\n",
      "epoch95 loss:0.4096\n",
      "epoch96 loss:0.2401\n",
      "epoch97 loss:0.3983\n",
      "epoch98 loss:0.6150\n",
      "epoch99 loss:0.9964\n",
      "epoch100 loss:0.3396\n",
      "Finished Traning\n"
     ]
    }
   ],
   "source": [
    "# 训练\n",
    "EPOCH = 100\n",
    "for epoch in range(EPOCH):\n",
    "    for i, data in enumerate(train_loader):\n",
    "        inputs, labels = data\n",
    "        inputs, labels = inputs.to(device), labels.to(device)\n",
    "        # 前向传播\n",
    "        outputs = model(inputs)\n",
    "        # 计算损失函数\n",
    "        loss = criterion(outputs, labels)\n",
    "        # 清空上一轮梯度\n",
    "        optimizer.zero_grad()\n",
    "        # 反向传播\n",
    "        loss.backward()\n",
    "        # 参数更新\n",
    "        optimizer.step()\n",
    "\n",
    "    print('epoch{} loss:{:.4f}'.format(epoch+1, loss.item()))\n",
    "\n",
    "print(\"Finished Traning\")\n",
    "\n",
    "\n",
    "#保存训练模型\n",
    "torch.save(model, 'cifar10_alexnet.pt')\n",
    "model = torch.load('cifar10_alexnet.pt')"
   ]
  },
  {
   "cell_type": "code",
   "execution_count": 11,
   "metadata": {},
   "outputs": [
    {
     "name": "stdout",
     "output_type": "stream",
     "text": [
      "10000测试图像 准确率:71.4800%\n"
     ]
    }
   ],
   "source": [
    "# 测试\n",
    "model.eval()\n",
    "correct = 0\n",
    "total = 0\n",
    "\n",
    "for data in test_loader:\n",
    "    images, labels = data\n",
    "    images, labels = images.to(device), labels.to(device)\n",
    "    # 前向传播\n",
    "    out = model(images)\n",
    "    _, predicted = torch.max(out.data, 1)\n",
    "    total += labels.size(0)\n",
    "    correct += (predicted == labels).sum().item()\n",
    "\n",
    "#输出识别准确率\n",
    "print('10000测试图像 准确率:{:.4f}%'.format(100 * correct / total)) "
   ]
  },
  {
   "cell_type": "code",
   "execution_count": null,
   "metadata": {},
   "outputs": [],
   "source": []
  }
 ],
 "metadata": {
  "kernelspec": {
   "display_name": "Python 3",
   "language": "python",
   "name": "python3"
  },
  "language_info": {
   "codemirror_mode": {
    "name": "ipython",
    "version": 3
   },
   "file_extension": ".py",
   "mimetype": "text/x-python",
   "name": "python",
   "nbconvert_exporter": "python",
   "pygments_lexer": "ipython3",
   "version": "3.7.6"
  }
 },
 "nbformat": 4,
 "nbformat_minor": 4
}
