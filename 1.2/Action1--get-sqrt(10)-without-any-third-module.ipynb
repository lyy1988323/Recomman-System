{
 "cells": [
  {
   "cell_type": "code",
   "execution_count": 9,
   "metadata": {},
   "outputs": [],
   "source": [
    "def sqrt(n, precision=10):\n",
    "    start = 0  # 二分法左边界\n",
    "    end = n  # 二分法右边界\n",
    "    ret = 0  # 结果：sqrt(n)\n",
    "    count = 0  # 计数器：控制精度\n",
    "    while (end-start) > 1.0/(10**precision):\n",
    "        ret = (start+end)/2.0\n",
    "        if ret**2>=n:\n",
    "            start = start\n",
    "            end = ret\n",
    "        else:\n",
    "            start = ret\n",
    "            end = end\n",
    "        count+=1\n",
    "#         print(\"ret,start,end,ret:\", ret, start, end)\n",
    "    return round(ret, 10)"
   ]
  },
  {
   "cell_type": "code",
   "execution_count": 10,
   "metadata": {},
   "outputs": [
    {
     "data": {
      "text/plain": [
       "3.1622776602"
      ]
     },
     "execution_count": 10,
     "metadata": {},
     "output_type": "execute_result"
    }
   ],
   "source": [
    "sqrt(10)"
   ]
  },
  {
   "cell_type": "code",
   "execution_count": null,
   "metadata": {},
   "outputs": [],
   "source": []
  }
 ],
 "metadata": {
  "kernelspec": {
   "display_name": "Python 3",
   "language": "python",
   "name": "python3"
  },
  "language_info": {
   "codemirror_mode": {
    "name": "ipython",
    "version": 3
   },
   "file_extension": ".py",
   "mimetype": "text/x-python",
   "name": "python",
   "nbconvert_exporter": "python",
   "pygments_lexer": "ipython3",
   "version": "3.5.2"
  }
 },
 "nbformat": 4,
 "nbformat_minor": 4
}
